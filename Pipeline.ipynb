{
  "nbformat": 4,
  "nbformat_minor": 0,
  "metadata": {
    "colab": {
      "provenance": [],
      "collapsed_sections": []
    },
    "kernelspec": {
      "name": "python3",
      "display_name": "Python 3"
    },
    "language_info": {
      "name": "python"
    }
  },
  "cells": [
    {
      "cell_type": "code",
      "execution_count": null,
      "metadata": {
        "id": "Mz3AXhyOz7Wd"
      },
      "outputs": [],
      "source": [
        "from pyspark.sql import SparkSession\n",
        "from pyspark.sql.types import StructType,StructField, StringType, IntegerType,BooleanType,DoubleType\n",
        "from pyspark.sql import functions as F\n",
        "from pyspark.sql.functions import *\n",
        "\n",
        "spark = SparkSession.builder.master(\"local[1]\").appName(\"Onedot.com\").getOrCreate()"
      ]
    },
    {
      "cell_type": "code",
      "source": [
        "df = spark.read.json(\"supplier_car.json\")"
      ],
      "metadata": {
        "id": "ncj3mg380ITL"
      },
      "execution_count": null,
      "outputs": []
    },
    {
      "cell_type": "code",
      "source": [
        "pivoted_df = input_data.groupBy(\"ID\").pivot(\"Attribute Names\").agg(F.first(\"Attribute Values\"))\n",
        "preprocessed_df = pivoted_df.join(input_data,pivoted_df.ID==input_data.ID,'inner').drop(pivoted_df.ID)\n",
        "preprocessed_df = preprocessed_df.drop_duplicates(subset=['ID'])"
      ],
      "metadata": {
        "id": "jUXHR9rh0PTJ"
      },
      "execution_count": null,
      "outputs": []
    },
    {
      "cell_type": "markdown",
      "source": [
        "Saving preprocessed data in a csv file"
      ],
      "metadata": {
        "id": "tYu1jvN8030V"
      }
    },
    {
      "cell_type": "code",
      "source": [
        "preprocessed_df.toPandas().to_csv(\"pre-processing.csv\", header=True, encoding=\"utf-8\")"
      ],
      "metadata": {
        "id": "BIMGbxbS016c"
      },
      "execution_count": null,
      "outputs": []
    },
    {
      "cell_type": "markdown",
      "source": [
        "Normalisation"
      ],
      "metadata": {
        "id": "5SP0SLYR07iJ"
      }
    },
    {
      "cell_type": "code",
      "source": [
        "colors_german_english = {\"orange\":\"Orange\", \"grün\":\"Green\", \"schwarz\":\"black\", \"grau\":\"Gray\", \"gelb\":\"Yellow\", \"braun\":\"Brown\", \"weiss\":\"White\", \"blau\":\"Blue\", \"gold\":\"Gold\", \"beige\":\"Beige\", \"violett\":\"Violet\", \"silber\":\"Silver\", \"anthrazit\":\"Anthracite\", \"rot\":\"Red\", \"bordeaux\":\"Bordeaux\" }\n",
        "normalised_supplier_data = input_data.withColumn('BodyColorText', regexp_replace('BodyColorText', ' mét.', ''))\n",
        "normalised_supplier_data = normalised_supplier_data.na.replace(colors_german_english,1,\"BodyColorText\")\n",
        "\n",
        "normalised_supplier_data = normalised_supplier_data.withColumn(\"MakeText\", F.expr(r\"\"\"array_join(transform(split(regexp_replace(MakeText, '(\\\\s|\\\\(|-|\\\\/)(.)', '$1#$2'), '#'), x -> initcap(x)),\"\")\"\"\"))\n",
        "\n",
        "normalize_Make = {\"Pgo\":\"PGO\", \"Austin-healey\":\"Austin-Healey\", \"Nsu\":\"NSU\", \"Bmw\":\"BMW\", \"Agm\":\"AGM\", \"Vw\":\"VW\", \"Mg\":\"MG\", \"Bmw-Alpina\":\"Alpina\", \"Ford (usa)\": \"Ford\"}\n",
        "normalised_supplier_data = normalised_supplier_data.na.replace(normalize_Make,1,\"MakeText\")"
      ],
      "metadata": {
        "id": "DdxIfk6E0Qtn"
      },
      "execution_count": null,
      "outputs": []
    },
    {
      "cell_type": "markdown",
      "source": [
        "Saving normalized data in a csv file"
      ],
      "metadata": {
        "id": "sjoLrbfL1Ceq"
      }
    },
    {
      "cell_type": "code",
      "source": [
        "normalised_supplier_data.toPandas().to_csv(\"normalisation.csv\", header=True, encoding=\"utf-8\")"
      ],
      "metadata": {
        "id": "otA4ZKBi1AAf"
      },
      "execution_count": null,
      "outputs": []
    },
    {
      "cell_type": "markdown",
      "source": [
        "Extraction"
      ],
      "metadata": {
        "id": "C5H-DENc1ICq"
      }
    },
    {
      "cell_type": "code",
      "source": [
        "split_col = split(input_data['ConsumptionTotalText'], ' ')\n",
        "extracted_supplier_data = input_data.withColumn('extracted-value-ConsumptionTotalText', split_col.getItem(0))\n",
        "extracted_supplier_data = extracted_supplier_data.withColumn('extracted-unit-ConsumptionTotalText', split_col.getItem(1))"
      ],
      "metadata": {
        "id": "3DEkowWt0TIW"
      },
      "execution_count": null,
      "outputs": []
    },
    {
      "cell_type": "markdown",
      "source": [
        "Saving extracted data in a csv file"
      ],
      "metadata": {
        "id": "GmaoiaT61LUe"
      }
    },
    {
      "cell_type": "code",
      "source": [
        "extracted_supplier_data.toPandas().to_csv(\"extraction.csv\", header=True, encoding=\"utf-8\")"
      ],
      "metadata": {
        "id": "86MFzC7N1MAo"
      },
      "execution_count": null,
      "outputs": []
    },
    {
      "cell_type": "markdown",
      "source": [
        "Integration"
      ],
      "metadata": {
        "id": "wyhH9Moc1QkI"
      }
    },
    {
      "cell_type": "code",
      "source": [
        "integrated_supplier_data = input_data.select(\n",
        "    col(\"MakeText\").alias(\"make\"), \n",
        "    col(\"ModelText\").alias(\"model\"),\n",
        "    col(\"BodyColorText\").alias(\"color\"), \n",
        "    col(\"TypeName\").alias(\"model_variant\"), \n",
        "    col(\"City\").alias(\"city\")\n",
        ")\n"
      ],
      "metadata": {
        "id": "tPX8-TvK0VL0"
      },
      "execution_count": null,
      "outputs": []
    },
    {
      "cell_type": "markdown",
      "source": [
        "Saving integrated data in a csv file"
      ],
      "metadata": {
        "id": "qwCuH0QQ1XHG"
      }
    },
    {
      "cell_type": "code",
      "source": [
        "integrated_supplier_data.toPandas().to_csv(\"integration.csv\", header=True, encoding=\"utf-8\")"
      ],
      "metadata": {
        "id": "YSXxS1581U5w"
      },
      "execution_count": null,
      "outputs": []
    }
  ]
}