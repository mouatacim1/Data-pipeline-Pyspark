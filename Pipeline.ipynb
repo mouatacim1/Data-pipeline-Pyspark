{
  "cells": [
    {
      "cell_type": "code",
      "execution_count": null,
      "metadata": {
        "id": "Mz3AXhyOz7Wd"
      },
      "outputs": [],
      "source": [
        "from pyspark.sql import SparkSession\n",
        "from pyspark.sql.types import StructType,StructField, StringType, IntegerType,BooleanType,DoubleType\n",
        "from pyspark.sql import functions as F\n",
        "from pyspark.sql.functions import *\n",
        "\n",
        "spark = SparkSession.builder.master(\"local[1]\").appName(\"Onedot.com\").getOrCreate()"
      ]
    },
    {
      "cell_type": "code",
      "execution_count": null,
      "metadata": {
        "id": "ncj3mg380ITL"
      },
      "outputs": [],
      "source": [
        "df = spark.read.json(\"/data/supplier_car.json\")"
      ]
    },
    {
      "cell_type": "code",
      "execution_count": null,
      "metadata": {
        "id": "jUXHR9rh0PTJ"
      },
      "outputs": [],
      "source": [
        "pivoted_df = input_data.groupBy(\"ID\").pivot(\"Attribute Names\").agg(F.first(\"Attribute Values\"))\n",
        "preprocessed_df = pivoted_df.join(input_data,pivoted_df.ID==input_data.ID,'inner').drop(pivoted_df.ID)\n",
        "preprocessed_df = preprocessed_df.drop_duplicates(subset=['ID'])"
      ]
    },
    {
      "cell_type": "markdown",
      "metadata": {
        "id": "tYu1jvN8030V"
      },
      "source": [
        "Saving preprocessed data in a csv file"
      ]
    },
    {
      "cell_type": "code",
      "execution_count": null,
      "metadata": {
        "id": "BIMGbxbS016c"
      },
      "outputs": [],
      "source": [
        "preprocessed_df.toPandas().to_csv(\"pre-processing.csv\", header=True, encoding=\"utf-8\")"
      ]
    },
    {
      "cell_type": "markdown",
      "metadata": {
        "id": "5SP0SLYR07iJ"
      },
      "source": [
        "Normalisation"
      ]
    },
    {
      "cell_type": "code",
      "execution_count": null,
      "metadata": {
        "id": "DdxIfk6E0Qtn"
      },
      "outputs": [],
      "source": [
        "colors_german_english = {\"orange\":\"Orange\", \"grün\":\"Green\", \"schwarz\":\"black\", \"grau\":\"Gray\", \"gelb\":\"Yellow\", \"braun\":\"Brown\", \"weiss\":\"White\", \"blau\":\"Blue\", \"gold\":\"Gold\", \"beige\":\"Beige\", \"violett\":\"Violet\", \"silber\":\"Silver\", \"anthrazit\":\"Anthracite\", \"rot\":\"Red\", \"bordeaux\":\"Bordeaux\" }\n",
        "normalised_supplier_data = input_data.withColumn('BodyColorText', regexp_replace('BodyColorText', ' mét.', ''))\n",
        "normalised_supplier_data = normalised_supplier_data.na.replace(colors_german_english,1,\"BodyColorText\")\n",
        "\n",
        "normalised_supplier_data = normalised_supplier_data.withColumn(\"MakeText\", F.expr(r\"\"\"array_join(transform(split(regexp_replace(MakeText, '(\\\\s|\\\\(|-|\\\\/)(.)', '$1#$2'), '#'), x -> initcap(x)),\"\")\"\"\"))\n",
        "\n",
        "normalize_Make = {\"Pgo\":\"PGO\", \"Austin-healey\":\"Austin-Healey\", \"Nsu\":\"NSU\", \"Bmw\":\"BMW\", \"Agm\":\"AGM\", \"Vw\":\"VW\", \"Mg\":\"MG\", \"Bmw-Alpina\":\"Alpina\", \"Ford (usa)\": \"Ford\"}\n",
        "normalised_supplier_data = normalised_supplier_data.na.replace(normalize_Make,1,\"MakeText\")"
      ]
    },
    {
      "cell_type": "markdown",
      "metadata": {
        "id": "sjoLrbfL1Ceq"
      },
      "source": [
        "Saving normalized data in a csv file"
      ]
    },
    {
      "cell_type": "code",
      "execution_count": null,
      "metadata": {
        "id": "otA4ZKBi1AAf"
      },
      "outputs": [],
      "source": [
        "normalised_supplier_data.toPandas().to_csv(\"normalisation.csv\", header=True, encoding=\"utf-8\")"
      ]
    },
    {
      "cell_type": "markdown",
      "metadata": {
        "id": "C5H-DENc1ICq"
      },
      "source": [
        "Extraction"
      ]
    },
    {
      "cell_type": "code",
      "execution_count": null,
      "metadata": {
        "id": "3DEkowWt0TIW"
      },
      "outputs": [],
      "source": [
        "split_col = split(input_data['ConsumptionTotalText'], ' ')\n",
        "extracted_supplier_data = input_data.withColumn('extracted-value-ConsumptionTotalText', split_col.getItem(0))\n",
        "extracted_supplier_data = extracted_supplier_data.withColumn('extracted-unit-ConsumptionTotalText', split_col.getItem(1))"
      ]
    },
    {
      "cell_type": "markdown",
      "metadata": {
        "id": "GmaoiaT61LUe"
      },
      "source": [
        "Saving extracted data in a csv file"
      ]
    },
    {
      "cell_type": "code",
      "execution_count": null,
      "metadata": {
        "id": "86MFzC7N1MAo"
      },
      "outputs": [],
      "source": [
        "extracted_supplier_data.toPandas().to_csv(\"extraction.csv\", header=True, encoding=\"utf-8\")"
      ]
    },
    {
      "cell_type": "markdown",
      "metadata": {
        "id": "wyhH9Moc1QkI"
      },
      "source": [
        "Integration"
      ]
    },
    {
      "cell_type": "code",
      "execution_count": null,
      "metadata": {
        "id": "tPX8-TvK0VL0"
      },
      "outputs": [],
      "source": [
        "integrated_supplier_data = input_data.select(\n",
        "    col(\"MakeText\").alias(\"make\"), \n",
        "    col(\"ModelText\").alias(\"model\"),\n",
        "    col(\"BodyColorText\").alias(\"color\"), \n",
        "    col(\"TypeName\").alias(\"model_variant\"), \n",
        "    col(\"City\").alias(\"city\")\n",
        ")\n"
      ]
    },
    {
      "cell_type": "markdown",
      "metadata": {
        "id": "qwCuH0QQ1XHG"
      },
      "source": [
        "Saving integrated data in a csv file"
      ]
    },
    {
      "cell_type": "code",
      "execution_count": null,
      "metadata": {
        "id": "YSXxS1581U5w"
      },
      "outputs": [],
      "source": [
        "integrated_supplier_data.toPandas().to_csv(\"integration.csv\", header=True, encoding=\"utf-8\")"
      ]
    }
  ],
  "metadata": {
    "colab": {
      "collapsed_sections": [],
      "provenance": []
    },
    "kernelspec": {
      "display_name": "Python 3",
      "name": "python3"
    },
    "language_info": {
      "name": "python"
    }
  },
  "nbformat": 4,
  "nbformat_minor": 0
}
